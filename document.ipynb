{
 "cells": [
  {
   "cell_type": "markdown",
   "metadata": {},
   "source": [
    "### Packages"
   ]
  },
  {
   "cell_type": "code",
   "execution_count": 52,
   "metadata": {},
   "outputs": [],
   "source": [
    "import random\n",
    "import string\n",
    "import os\n",
    "\n",
    "from cryptography.hazmat.backends import default_backend\n",
    "from cryptography.hazmat.primitives import serialization, hashes\n",
    "from cryptography.hazmat.primitives.asymmetric import rsa, padding\n"
   ]
  },
  {
   "cell_type": "markdown",
   "metadata": {},
   "source": [
    "### MonoAlphabetc Cipher"
   ]
  },
  {
   "cell_type": "code",
   "execution_count": 11,
   "metadata": {},
   "outputs": [],
   "source": [
    "def shift_right(text, shift):\n",
    "    result = \"\"\n",
    "    for char in text:\n",
    "        if char == '\\n':\n",
    "            result += char\n",
    "        else:\n",
    "            result += chr((ord(char) + shift) % 128)\n",
    "\n",
    "    return result\n",
    "\n",
    "def shift_left(text, shift):\n",
    "    result = \"\"\n",
    "    for char in text:\n",
    "        if char == '\\n':\n",
    "            result += char\n",
    "        else:\n",
    "            result += chr((ord(char) - shift) % 128)\n",
    "\n",
    "    return result\n"
   ]
  },
  {
   "cell_type": "markdown",
   "metadata": {},
   "source": [
    "### Vignere Cipher"
   ]
  },
  {
   "cell_type": "code",
   "execution_count": 10,
   "metadata": {},
   "outputs": [],
   "source": [
    "def vigenere_cipher(text):\n",
    "    key = text[-5:]\n",
    "\n",
    "    result = \"\"\n",
    "    for i, char in enumerate(text):\n",
    "        shift_amount = len(key) if i % 2 == 0 else -len(key)\n",
    "        result += shift_right(char, shift_amount) if i % 2 == 0 else shift_left(char, shift_amount)\n",
    "\n",
    "    return result, key\n",
    "\n",
    "def vigenere_decipher(text, key):\n",
    "    result = \"\"\n",
    "    for i, char in enumerate(text):\n",
    "        shift_amount = len(key) if i % 2 == 0 else -len(key)\n",
    "        result += shift_left(char, shift_amount) if i % 2 == 0 else shift_right(char, shift_amount)\n",
    "\n",
    "    return result"
   ]
  },
  {
   "cell_type": "markdown",
   "metadata": {},
   "source": [
    "### Vernam Cipher"
   ]
  },
  {
   "cell_type": "code",
   "execution_count": 9,
   "metadata": {},
   "outputs": [],
   "source": [
    "\n",
    "def generate_vernam_key(text_length):\n",
    "    return ''.join(random.choice(string.ascii_letters + string.digits + string.punctuation) for _ in range(text_length))\n",
    "\n",
    "def vernam_cipher(text, key):\n",
    "    encrypted_text = \"\"\n",
    "    for char, key_char in zip(text, key):\n",
    "        encrypted_text += chr(ord(char) ^ ord(key_char))\n",
    "    return encrypted_text\n",
    "\n",
    "def vernam_decipher(encrypted_text, key):\n",
    "    decrypted_text = \"\"\n",
    "    for char, key_char in zip(encrypted_text, key):\n",
    "        decrypted_text += chr(ord(char) ^ ord(key_char))\n",
    "    return decrypted_text\n"
   ]
  },
  {
   "cell_type": "markdown",
   "metadata": {},
   "source": [
    "### Transpositional Cipher"
   ]
  },
  {
   "cell_type": "code",
   "execution_count": 45,
   "metadata": {},
   "outputs": [],
   "source": [
    "def transposition_encrypt(plaintext, key):\n",
    "    padding = (key - len(plaintext) % key) % key\n",
    "    plaintext += ' ' * padding\n",
    "\n",
    "    transposition_matrix = [plaintext[i:i + key] for i in range(0, len(plaintext), key)]\n",
    "\n",
    "    ciphertext = ''\n",
    "    for col in range(key):\n",
    "        ciphertext += ''.join(row[col] for row in transposition_matrix)\n",
    "\n",
    "    return ciphertext\n",
    "\n",
    "def transposition_decrypt(ciphertext, key):\n",
    "    rows = len(ciphertext) // key\n",
    "\n",
    "    transposition_matrix = [ciphertext[i:i + rows] for i in range(0, len(ciphertext), rows)]\n",
    "\n",
    "    plaintext = ''\n",
    "    for row in range(rows):\n",
    "        plaintext += ''.join(col[row] for col in transposition_matrix)\n",
    "\n",
    "    return plaintext.rstrip()\n"
   ]
  },
  {
   "cell_type": "markdown",
   "metadata": {},
   "source": [
    "### RSA Cipher"
   ]
  },
  {
   "cell_type": "code",
   "execution_count": 27,
   "metadata": {},
   "outputs": [],
   "source": [
    "def generate_keypair():\n",
    "    private_key = rsa.generate_private_key(\n",
    "        public_exponent=65537,\n",
    "        key_size=2048,\n",
    "        backend=default_backend()\n",
    "    )\n",
    "    public_key = private_key.public_key()\n",
    "\n",
    "    # Serialize keys to PEM format\n",
    "    private_pem = private_key.private_bytes(\n",
    "        encoding=serialization.Encoding.PEM,\n",
    "        format=serialization.PrivateFormat.PKCS8,\n",
    "        encryption_algorithm=serialization.NoEncryption()\n",
    "    )\n",
    "    public_pem = public_key.public_bytes(\n",
    "        encoding=serialization.Encoding.PEM,\n",
    "        format=serialization.PublicFormat.SubjectPublicKeyInfo\n",
    "    )\n",
    "\n",
    "    return private_pem, public_pem\n",
    "\n",
    "def rsa_encrypt_file(public_key_pem, input_file, output_file):\n",
    "    with open(input_file, 'rb') as file:\n",
    "        plaintext = file.read()\n",
    "\n",
    "    public_key = serialization.load_pem_public_key(public_key_pem, backend=default_backend())\n",
    "    ciphertext = public_key.encrypt(\n",
    "        plaintext,\n",
    "        padding.OAEP(\n",
    "            mgf=padding.MGF1(algorithm=hashes.SHA256()),\n",
    "            algorithm=hashes.SHA256(),\n",
    "            label=None\n",
    "        )\n",
    "    )\n",
    "\n",
    "    with open(output_file, 'wb') as file:\n",
    "        file.write(ciphertext)\n",
    "\n",
    "def rsa_decrypt_file(private_key_pem, input_file, output_file):\n",
    "    with open(input_file, 'rb') as file:\n",
    "        ciphertext = file.read()\n",
    "\n",
    "    private_key = serialization.load_pem_private_key(private_key_pem, password=None, backend=default_backend())\n",
    "    plaintext = private_key.decrypt(\n",
    "        ciphertext,\n",
    "        padding.OAEP(\n",
    "            mgf=padding.MGF1(algorithm=hashes.SHA256()),\n",
    "            algorithm=hashes.SHA256(),\n",
    "            label=None\n",
    "        )\n",
    "    )\n",
    "\n",
    "    with open(output_file, 'wb') as file:\n",
    "        file.write(plaintext)"
   ]
  },
  {
   "cell_type": "markdown",
   "metadata": {},
   "source": [
    "### Encrypt and Decrypt File"
   ]
  },
  {
   "cell_type": "code",
   "execution_count": 41,
   "metadata": {},
   "outputs": [],
   "source": [
    "shift_amount = 5\n",
    "vkey = ''\n",
    "vernkey = 0\n",
    "num_columns = 5\n",
    "private_key, public_key = generate_keypair()\n",
    "tkey = 5\n"
   ]
  },
  {
   "cell_type": "code",
   "execution_count": 59,
   "metadata": {},
   "outputs": [],
   "source": [
    "def encrypt_file(file_path, shift):\n",
    "    global vkey, vernkey, public_key\n",
    "    with open(file_path, 'r') as file:\n",
    "        plaintext = file.read()\n",
    "    \n",
    "    \n",
    "    vernkey = generate_vernam_key(len(plaintext))\n",
    "    ciphertext1 = shift_right(plaintext, shift)\n",
    "    ciphertext2, vkey = vigenere_cipher(ciphertext1)\n",
    "    ciphertext3 = vernam_cipher(ciphertext2, vernkey)\n",
    "    ciphertext4 = transposition_encrypt(ciphertext3 , tkey)\n",
    "\n",
    "    with open('temp-encrypted.txt', 'w') as encrypted_file:\n",
    "        encrypted_file.write(ciphertext4)\n"
   ]
  },
  {
   "cell_type": "code",
   "execution_count": 58,
   "metadata": {},
   "outputs": [],
   "source": [
    "def decrypt_file(file_path, shift):\n",
    "    global vkey, vernkey\n",
    "    with open(file_path, 'r') as file:\n",
    "        ciphertext = file.read()\n",
    "        plaintext3 = transposition_decrypt(ciphertext, tkey)\n",
    "        plaintext2 = vernam_decipher(plaintext3, vernkey)\n",
    "        plaintext1 = vigenere_decipher(plaintext2, vkey)\n",
    "        plaintext = shift_left(plaintext1, shift)\n",
    "\n",
    "    with open('decrypted.txt', 'w') as decrypted_file:\n",
    "        decrypted_file.write(plaintext)\n"
   ]
  },
  {
   "cell_type": "markdown",
   "metadata": {},
   "source": [
    "### Main Function Calls"
   ]
  },
  {
   "cell_type": "markdown",
   "metadata": {},
   "source": [
    "#### Encryption"
   ]
  },
  {
   "cell_type": "code",
   "execution_count": 61,
   "metadata": {},
   "outputs": [],
   "source": [
    "file_path = 'example.txt'\n",
    "encrypt_file(file_path, shift_amount)\n",
    "\n",
    "rsa_encrypt_file(public_key, 'temp-encrypted.txt', 'encrypted.txt')\n",
    "os.remove('temp-encrypted.txt')\n"
   ]
  },
  {
   "cell_type": "markdown",
   "metadata": {},
   "source": [
    "#### Decryption"
   ]
  },
  {
   "cell_type": "code",
   "execution_count": 51,
   "metadata": {},
   "outputs": [],
   "source": [
    "rsa_decrypt_file(private_key, 'encrypted.txt', 'temp-decrypted.txt' )\n",
    "\n",
    "decrypt_file('temp-decrypted.txt', shift_amount)\n",
    "os.remove('temp-decrypted.txt')\n"
   ]
  }
 ],
 "metadata": {
  "kernelspec": {
   "display_name": "Python 3",
   "language": "python",
   "name": "python3"
  },
  "language_info": {
   "codemirror_mode": {
    "name": "ipython",
    "version": 3
   },
   "file_extension": ".py",
   "mimetype": "text/x-python",
   "name": "python",
   "nbconvert_exporter": "python",
   "pygments_lexer": "ipython3",
   "version": "3.12.0"
  }
 },
 "nbformat": 4,
 "nbformat_minor": 2
}
